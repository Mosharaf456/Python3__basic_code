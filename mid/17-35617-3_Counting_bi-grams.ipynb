{
 "cells": [
  {
   "cell_type": "code",
   "execution_count": 7,
   "metadata": {},
   "outputs": [
    {
     "name": "stdout",
     "output_type": "stream",
     "text": [
      "Most common bi-grams across the entire word list: 22399\n",
      "Do not appear in any word 54\n",
      "Total words contain repeated bi-grams 622\n",
      "Highest number of repetions of any bi-gram in a word: es 22399\n"
     ]
    }
   ],
   "source": [
    "# Counting bi-grams\n",
    "\n",
    "from collections import Counter \n",
    "\n",
    "with open('data.txt', 'r') as file:\n",
    "    data = file.read().replace('\\n', '')\n",
    "    \n",
    "##########\n",
    "# i='reverend'\n",
    "i=data\n",
    "res = Counter(i[idx : idx + 2] for idx in range(len(i) - 1)) \n",
    "# print(\"The Bigrams Frequency is : \" + str(dict(res)))\n",
    "\n",
    "\n",
    "##########What are the 10 (20, 50, etc) most common bi-grams across the entire word list?\n",
    "res=dict(res)\n",
    "\n",
    "keyValue=list(res.values())\n",
    "max_value =1\n",
    "for v in keyValue:\n",
    "    if max_value<v:\n",
    "        max_value= v\n",
    "        \n",
    "# list out keys and values separately\n",
    "key_list = list(res.keys())\n",
    "val_list = list(res.values())\n",
    " \n",
    "# # print key with  max_value\n",
    "position = val_list.index(max_value)\n",
    "print(\"Most common bi-grams across the entire word list:\",max_value)\n",
    "#########How many words contain repeated bi-grams?\n",
    "totalWordCount=0;\n",
    "for i in res.keys():\n",
    "    totalWordCount=totalWordCount+1\n",
    "\n",
    "###############How many (and which!) of these do not appear in any word?\n",
    "possibleBigram=26 ** 2 \n",
    "if possibleBigram>totalWordCount:\n",
    "    doNotAppear=possibleBigram-totalWordCount\n",
    "else:\n",
    "    doNotAppear=totalWordCount-possibleBigram\n",
    "print(\"Do not appear in any word\",doNotAppear)\n",
    "\n",
    "print(\"Total words contain repeated bi-grams\",totalWordCount)\n",
    "\n",
    "####What is the highest number of repetions of any bi-gram in a word, and which words have that number \n",
    "print(\"Highest number of repetions of any bi-gram in a word:\",key_list[position],max_value)\n",
    "\n",
    "\n",
    "#####\n",
    "file.close()\n",
    "\n"
   ]
  },
  {
   "cell_type": "code",
   "execution_count": null,
   "metadata": {},
   "outputs": [],
   "source": []
  }
 ],
 "metadata": {
  "kernelspec": {
   "display_name": "Python 3",
   "language": "python",
   "name": "python3"
  },
  "language_info": {
   "codemirror_mode": {
    "name": "ipython",
    "version": 3
   },
   "file_extension": ".py",
   "mimetype": "text/x-python",
   "name": "python",
   "nbconvert_exporter": "python",
   "pygments_lexer": "ipython3",
   "version": "3.8.5"
  }
 },
 "nbformat": 4,
 "nbformat_minor": 4
}
